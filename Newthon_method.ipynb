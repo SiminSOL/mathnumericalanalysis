{
  "nbformat": 4,
  "nbformat_minor": 0,
  "metadata": {
    "colab": {
      "provenance": [],
      "authorship_tag": "ABX9TyM4EWlItK7nTGXXB/cnDK2U",
      "include_colab_link": true
    },
    "kernelspec": {
      "name": "python3",
      "display_name": "Python 3"
    },
    "language_info": {
      "name": "python"
    }
  },
  "cells": [
    {
      "cell_type": "markdown",
      "metadata": {
        "id": "view-in-github",
        "colab_type": "text"
      },
      "source": [
        "<a href=\"https://colab.research.google.com/github/SiminSOL/mathnumericalanalysis/blob/main/Newthon_method.ipynb\" target=\"_parent\"><img src=\"https://colab.research.google.com/assets/colab-badge.svg\" alt=\"Open In Colab\"/></a>"
      ]
    },
    {
      "cell_type": "code",
      "execution_count": null,
      "metadata": {
        "colab": {
          "base_uri": "https://localhost:8080/"
        },
        "id": "WrEJQO9OzwKy",
        "outputId": "e67d88c4-2b78-4492-c23a-51e1429ce3f6"
      },
      "outputs": [
        {
          "output_type": "stream",
          "name": "stdout",
          "text": [
            "x_1 = 2.000000\n",
            "x_2 = 0.614862\n",
            "x_3 = 0.911249\n",
            "x_4 = 0.995599\n",
            "x_5 = 0.999975\n",
            "x_6 = 1.000000\n"
          ]
        },
        {
          "output_type": "stream",
          "name": "stderr",
          "text": [
            "<ipython-input-7-e1e00505d2cb>:11: DeprecationWarning: scipy.misc.derivative is deprecated in SciPy v1.10.0; and will be completely removed in SciPy v1.12.0. You may consider using findiff: https://github.com/maroba/findiff or numdifftools: https://github.com/pbrod/numdifftools\n",
            "  Slope = derivative (f,x_n,dx=0.1)\n"
          ]
        }
      ],
      "source": [
        "import numpy as np\n",
        "from scipy.misc import derivative\n",
        "\n",
        "x_n = 2\n",
        "x = np.linspace (0.2,2.2,500)\n",
        "\n",
        "def f(x):\n",
        "  return np.log(x)\n",
        "\n",
        "def x_next(f,x,x_n):\n",
        "  Slope = derivative (f,x_n,dx=0.1)\n",
        "  return x_n - f(x_n) / Slope\n",
        "\n",
        "for n in range (6):\n",
        "  print('x_{} = {:.6f}'.format (n+1, x_n))\n",
        "  x_n = x_next(f,x,x_n)\n",
        "\n"
      ]
    }
  ]
}